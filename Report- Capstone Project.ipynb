{
 "cells": [
  {
   "cell_type": "markdown",
   "metadata": {},
   "source": [
    "# Business Landscape Exploration in Lagos and Rivers States"
   ]
  },
  {
   "cell_type": "markdown",
   "metadata": {},
   "source": [
    "_An exploratory study to expose business opportunities in Lagos and Rivers States, Nigeria._"
   ]
  },
  {
   "cell_type": "markdown",
   "metadata": {},
   "source": [
    "## Introduction"
   ]
  },
  {
   "cell_type": "markdown",
   "metadata": {},
   "source": [
    "Strategically locating business enterprise has been proven to be a backbone to business success. This makes the difference usually, between the average and the greats of companies.\n",
    "\n",
    "As a startup company, efficiently deploying resources and having a maximum Return on Investment (ROI) could buy more operational relevance in the market. For this reason it is important to be properly positioned to maximize available resources that helps the business meet its set out objectives.\n",
    "\n",
    "In this company, we embark on a research to help our client find the best location for their enterprise.\n",
    "\n",
    "Leveraging the Foursquare Places API we will explore the possibilities in their locations of choice"
   ]
  },
  {
   "cell_type": "markdown",
   "metadata": {},
   "source": [
    "## Business Problem"
   ]
  },
  {
   "cell_type": "markdown",
   "metadata": {},
   "source": [
    "Given a list of choice locations, \n",
    "- Can we advise our users as to the best location for their business of choice\n",
    "- Given exploration data, what class of business can thrive in the given locations, and why?"
   ]
  },
  {
   "cell_type": "markdown",
   "metadata": {},
   "source": [
    "## Data"
   ]
  },
  {
   "cell_type": "markdown",
   "metadata": {},
   "source": [
    "The Foursquare Places API will be employed to solve the problem with key points including but not limited to the following:\n",
    "- Coordinate of popular neighbourhoods under consideration\n",
    "- Popular business outlets\n",
    "- Existence of competitors (business in similar business categories)\n",
    "- Number of tips (to derive people traffic)\n",
    "- etc"
   ]
  },
  {
   "cell_type": "markdown",
   "metadata": {},
   "source": [
    "## Methodology"
   ]
  },
  {
   "cell_type": "markdown",
   "metadata": {},
   "source": [
    "The following methodologies (of Data Science) were applied to derive maximum results from the results\n",
    "- Data Collection from the Foursquare Places API\n",
    "- Data Wrangling to isolate missing values, out-or-range values\n",
    "- Data Exploration to have an overview of the data\n",
    "- Data Analysis using averages, and clustering (k-Means) methods\n",
    "- Data Visualization with maps since we are dealing with location data, which are best represented on maps"
   ]
  },
  {
   "cell_type": "markdown",
   "metadata": {},
   "source": [
    "## Results"
   ]
  },
  {
   "cell_type": "markdown",
   "metadata": {},
   "source": [
    "After studying the data, trends and statistics, we were able to come to the conclusion that location 1 (Lagos State) was a better choice for locating the clients business due to the availability of people traffic, for example.\n",
    "\n",
    "Several Shopping Malls, Cinemas, Hospitals, Historic Sites, Corporate Centers, Residential Centers, and the likes which also necessitates the availability "
   ]
  },
  {
   "cell_type": "markdown",
   "metadata": {},
   "source": [
    "## Discussion"
   ]
  },
  {
   "cell_type": "markdown",
   "metadata": {},
   "source": [
    "Several business potentials were identified at Location 2 (Rivers State) but were beyond the scope of this study. We hereby advise the client to seek further consultation in this regard."
   ]
  },
  {
   "cell_type": "markdown",
   "metadata": {},
   "source": [
    "## Conclusion"
   ]
  },
  {
   "cell_type": "markdown",
   "metadata": {},
   "source": [
    "We hereby advise the client to pursue the proposed business enterprise in Lagos State"
   ]
  }
 ],
 "metadata": {
  "kernelspec": {
   "display_name": "Python",
   "language": "python",
   "name": "conda-env-python-py"
  },
  "language_info": {
   "codemirror_mode": {
    "name": "ipython",
    "version": 3
   },
   "file_extension": ".py",
   "mimetype": "text/x-python",
   "name": "python",
   "nbconvert_exporter": "python",
   "pygments_lexer": "ipython3",
   "version": "3.6.12"
  },
  "widgets": {
   "state": {},
   "version": "1.1.2"
  }
 },
 "nbformat": 4,
 "nbformat_minor": 4
}
